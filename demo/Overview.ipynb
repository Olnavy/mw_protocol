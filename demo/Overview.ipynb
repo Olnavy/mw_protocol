{
 "cells": [
  {
   "cell_type": "code",
   "execution_count": null,
   "metadata": {},
   "outputs": [],
   "source": [
    "%matplotlib inline\n",
    "import cartopy.feature\n",
    "import cartopy.crs as ccrs\n",
    "# import cartopy\n",
    "import matplotlib.pyplot as plt\n",
    "import matplotlib.gridspec as gridspec\n",
    "import numpy as np\n",
    "import numpy.ma as ma\n",
    "import xarray as xr\n",
    "import xesmf as xe\n",
    "# import random\n",
    "# from scipy import ndimage\n",
    "import netCDF4 as ncdf\n",
    "import glac1d_meltwater.spreading as g1d\n",
    "\n",
    "import sys\n",
    "import glac1d_meltwater.spreading as spreading\n",
    "import glac1d_meltwater.saving as saving\n",
    "import glac1d_meltwater.plotting as plotting\n",
    "import glac1d_meltwater.glac1d_toolbox as tb"
   ]
  },
  {
   "cell_type": "markdown",
   "metadata": {},
   "source": [
    "## Test Spreading mask"
   ]
  },
  {
   "cell_type": "code",
   "execution_count": null,
   "metadata": {},
   "outputs": [],
   "source": [
    "ds_in = xr.open_dataset('/nfs/annie/eeymr/work/outputs/Proj_GLAC1D/dif_-26_0/teadv3.qrparm.GLAC1D_DEGLAC.nc', decode_times=False)\n",
    "routed_mw = np.where(np.isnan(ds_in.discharge.values),0,  ds_in.discharge.values )\n",
    "ds_wfix = xr.open_dataset(\"/nfs/annie/eeymr/work/data/Proj_GLAC1D/waterfix/teadv3.qrparam.waterfix.hadcm3.nc\")\n",
    "ds_lsm = xr.open_dataset(\"/nfs/annie/eeymr/work/data/Proj_GLAC1D/lsm/teadv3.qrparm.omask.nc\")\n",
    "\n",
    "spreaded_mw = spreading.spreading(routed_mw, ds_lsm, ds_wfix)"
   ]
  },
  {
   "cell_type": "markdown",
   "metadata": {},
   "source": [
    "## Check final land sea mask"
   ]
  },
  {
   "cell_type": "code",
   "execution_count": null,
   "metadata": {},
   "outputs": [],
   "source": [
    "ds_lsm = xr.open_dataset('/nfs/annie/earpal/um/swsvalde/ancil/GLAC/21.0k/teadv3.qrparm.omask.nc')\n",
    "lon_lsm, lat_lsm, lsm = ds_lsm.longitude.values, ds_lsm.latitude.values, ds_lsm.lsm.values\n",
    "\n",
    "ds_final = xr.open_dataset('/nfs/annie/eeymr/work/outputs/Proj_GLAC1D/dif_-26_0_s/teadv3.qrparm.waterfix_GLAC1D_DEGLAC_s.nc', decode_times=False)\n",
    "final_lsm = np.where(np.isnan(ds_final.discharge.values), 1,0)\n",
    "                 \n",
    "ds_previous = xr.open_dataset(\"/nfs/annie/eeymr/work/outputs/Proj_GLAC1D/Archive/differential_-2,28_100_sf/teadv3.qrparm.waterfix_GLAC1D_DEGLACs.nc\", decode_times=False)\n",
    "previous_lsm = np.where(np.isnan(ds_previous.discharge.values), 1,0)\n",
    "\n",
    "ds_dump = xr.open_dataset(\"/nfs/annie/eeymr/work/data/Proj_GLAC1D/examples/dump_xosfb_teadv3.nc\", decode_times=False)\n",
    "dump_lsm = np.where(np.isnan(ds_dump.temp.isel(t=0).isel(depth=0).values[:,:-2]), 1,0)"
   ]
  },
  {
   "cell_type": "code",
   "execution_count": null,
   "metadata": {},
   "outputs": [],
   "source": [
    "figMap,(axLSM, axDump) = plt.subplots(nrows=1, ncols=2, subplot_kw={'projection':projection_map}, figsize=(16,8))\n",
    "\n",
    "axLSM.pcolormesh(lon_lsm, lat_lsm, lsm ,transform=ccrs.PlateCarree(), cmap=\"BrBG_r\")\n",
    "axLSM.set_title(\"teadv3 land sea mask\")\n",
    "axLSM.coastlines()\n",
    "axLSM.set_global()\n",
    "\n",
    "axDump.pcolormesh(lon_lsm, lat_lsm, dump_lsm ,transform=ccrs.PlateCarree(), cmap=\"BrBG_r\")\n",
    "axDump.set_title(\"dump land sea mask\")\n",
    "axDump.coastlines()\n",
    "axDump.set_global()"
   ]
  },
  {
   "cell_type": "code",
   "execution_count": null,
   "metadata": {},
   "outputs": [],
   "source": [
    "figMap, axDif = plt.subplots(nrows=1, ncols=1, subplot_kw={'projection':projection_map}, figsize=(16,8))\n",
    "\n",
    "axDif.pcolormesh(lon_lsm, lat_lsm, dump_lsm - lsm,transform=ccrs.PlateCarree(), cmap=\"BrBG_r\")\n",
    "axDif.set_title(\"dump - lsm\")\n",
    "axDif.coastlines()\n",
    "axDif.set_global()"
   ]
  },
  {
   "cell_type": "code",
   "execution_count": null,
   "metadata": {},
   "outputs": [],
   "source": [
    "ds_lsm_fit = xr.open_dataset('/nfs/annie/eeymr/work/data/Proj_GLAC1D/lsm/teaea3.qrparm.omask.nc')\n",
    "lsm_fit = ds_lsm_fit.lsm.values\n",
    "\n",
    "\n",
    "figMap, axDif = plt.subplots(nrows=1, ncols=1, subplot_kw={'projection':projection_map}, figsize=(16,8))\n",
    "\n",
    "axDif.pcolormesh(lon_lsm, lat_lsm, dump_lsm - lsm_fit,transform=ccrs.PlateCarree(), cmap=\"BrBG_r\")\n",
    "axDif.coastlines()\n",
    "axDif.set_global()"
   ]
  },
  {
   "cell_type": "code",
   "execution_count": null,
   "metadata": {},
   "outputs": [],
   "source": [
    "projection_map = ccrs.PlateCarree()\n",
    "\n",
    "figMap,(axFinal,axPrevious, axDump) = plt.subplots(nrows=1, ncols=3, subplot_kw={'projection':projection_map}, figsize=(16,8))\n",
    "\n",
    "cm = axFinal.pcolormesh(lon_lsm, lat_lsm, final_lsm[0] - lsm, transform=ccrs.PlateCarree())\n",
    "axFinal.coastlines()\n",
    "axFinal.set_global()\n",
    "\n",
    "cm = axPrevious.pcolormesh(lon_lsm, lat_lsm, previous_lsm[100] - lsm ,transform=ccrs.PlateCarree())\n",
    "axPrevious.coastlines()\n",
    "axPrevious.set_global()\n",
    "\n",
    "cm = axDump.pcolormesh(lon_lsm, lat_lsm, dump_lsm - lsm ,transform=ccrs.PlateCarree())\n",
    "axDump.coastlines()\n",
    "axDump.set_global()"
   ]
  }
 ],
 "metadata": {
  "kernelspec": {
   "display_name": "Python 3",
   "language": "python",
   "name": "python3"
  },
  "language_info": {
   "codemirror_mode": {
    "name": "ipython",
    "version": 3
   },
   "file_extension": ".py",
   "mimetype": "text/x-python",
   "name": "python",
   "nbconvert_exporter": "python",
   "pygments_lexer": "ipython3",
   "version": "3.7.6"
  }
 },
 "nbformat": 4,
 "nbformat_minor": 2
}
